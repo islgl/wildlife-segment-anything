{
 "cells": [
  {
   "cell_type": "code",
   "execution_count": 73,
   "id": "initial_id",
   "metadata": {
    "collapsed": true,
    "ExecuteTime": {
     "end_time": "2024-01-22T07:13:44.478898Z",
     "start_time": "2024-01-22T07:13:44.457257Z"
    }
   },
   "outputs": [],
   "source": [
    "from segment_anything import sam_register, sam_inference\n",
    "import cv2\n",
    "import torch\n",
    "from torch import Tensor"
   ]
  },
  {
   "cell_type": "code",
   "execution_count": 74,
   "outputs": [],
   "source": [
    "device = 'cpu'\n",
    "data = '/Users/lgl/code/machine_learning/wildlife-segment-anything/data/images/coco/bird.jpg'\n",
    "checkpoint = '/Users/lgl/code/machine_learning/wildlife-segment-anything/models/sam/sam_vit_b_01ec64.pth'\n",
    "model_type = 'vit_b'"
   ],
   "metadata": {
    "collapsed": false,
    "ExecuteTime": {
     "end_time": "2024-01-22T07:13:44.483459Z",
     "start_time": "2024-01-22T07:13:44.474289Z"
    }
   },
   "id": "a459bc6c956c6dcf"
  },
  {
   "cell_type": "code",
   "execution_count": 75,
   "outputs": [],
   "source": [
    "prompt = {'bird.jpg': [[124, 124, 482, 468]]}"
   ],
   "metadata": {
    "collapsed": false,
    "ExecuteTime": {
     "end_time": "2024-01-22T07:13:44.492087Z",
     "start_time": "2024-01-22T07:13:44.482940Z"
    }
   },
   "id": "ddbc0d23a37583a8"
  },
  {
   "cell_type": "code",
   "execution_count": 76,
   "outputs": [],
   "source": [
    "# SAM register\n",
    "sam = sam_register(model_type=model_type, checkpoint=checkpoint, device=device)"
   ],
   "metadata": {
    "collapsed": false,
    "ExecuteTime": {
     "end_time": "2024-01-22T07:13:45.370428Z",
     "start_time": "2024-01-22T07:13:44.493784Z"
    }
   },
   "id": "74f79f16d3a09efb"
  },
  {
   "cell_type": "code",
   "execution_count": 77,
   "outputs": [],
   "source": [
    "# SAM inference\n",
    "masks = sam_inference(dataset=data, predictor=sam, prompt=prompt)"
   ],
   "metadata": {
    "collapsed": false,
    "ExecuteTime": {
     "end_time": "2024-01-22T07:14:02.022146Z",
     "start_time": "2024-01-22T07:13:45.375374Z"
    }
   },
   "id": "d1eb82ff28417817"
  },
  {
   "cell_type": "code",
   "execution_count": 79,
   "outputs": [],
   "source": [
    "def get_masked_image(image, masks)->Tensor:\n",
    "    image = cv2.imread(image)\n",
    "    image = cv2.cvtColor(image,cv2.COLOR_BGR2BGRA)\n",
    "    image = torch.from_numpy(image)\n",
    "\n",
    "    # (num_objects,num_masks_per_object,height,width)\n",
    "    merged_mask = torch.max(masks, dim=0).values[0]\n",
    "    merged_mask = merged_mask.unsqueeze(2)\n",
    "\n",
    "    masked_image = image * merged_mask\n",
    "    return masked_image"
   ],
   "metadata": {
    "collapsed": false,
    "ExecuteTime": {
     "end_time": "2024-01-22T07:14:02.041193Z",
     "start_time": "2024-01-22T07:14:02.033686Z"
    }
   },
   "id": "d5e70df37ecd6cc9"
  },
  {
   "cell_type": "code",
   "execution_count": 80,
   "outputs": [],
   "source": [
    "masked_image = get_masked_image(data, masks['bird.jpg'])"
   ],
   "metadata": {
    "collapsed": false,
    "ExecuteTime": {
     "end_time": "2024-01-22T07:14:02.109771Z",
     "start_time": "2024-01-22T07:14:02.042344Z"
    }
   },
   "id": "ed93bb2ac96e0f7e"
  }
 ],
 "metadata": {
  "kernelspec": {
   "display_name": "Python 3",
   "language": "python",
   "name": "python3"
  },
  "language_info": {
   "codemirror_mode": {
    "name": "ipython",
    "version": 2
   },
   "file_extension": ".py",
   "mimetype": "text/x-python",
   "name": "python",
   "nbconvert_exporter": "python",
   "pygments_lexer": "ipython2",
   "version": "2.7.6"
  }
 },
 "nbformat": 4,
 "nbformat_minor": 5
}
