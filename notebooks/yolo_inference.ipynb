{
 "cells": [
  {
   "cell_type": "code",
   "execution_count": 20,
   "id": "initial_id",
   "metadata": {
    "collapsed": true,
    "ExecuteTime": {
     "end_time": "2024-01-20T07:08:35.668642Z",
     "start_time": "2024-01-20T07:08:35.634293Z"
    }
   },
   "outputs": [],
   "source": [
    "# YOLO v5 inference"
   ]
  },
  {
   "cell_type": "code",
   "execution_count": 30,
   "outputs": [],
   "source": [
    "from yolov5 import run\n",
    "import cv2\n",
    "import matplotlib.pyplot as plt"
   ],
   "metadata": {
    "collapsed": false,
    "ExecuteTime": {
     "end_time": "2024-01-20T07:10:04.094962Z",
     "start_time": "2024-01-20T07:10:04.083714Z"
    }
   },
   "id": "1b03829fc8997ea"
  },
  {
   "cell_type": "code",
   "execution_count": 22,
   "outputs": [],
   "source": [
    "# Load config\n",
    "# Only one image\n",
    "data='/Users/lgl/code/machine_learning/wildlife-segment-anything/data/images/coco/bird.jpg'\n",
    "config='/Users/lgl/code/machine_learning/wildlife-segment-anything/data/coco.yaml'\n",
    "weights='/Users/lgl/code/machine_learning/wildlife-segment-anything/models/yolo/pt/coco.pt'\n",
    "device='cpu'"
   ],
   "metadata": {
    "collapsed": false,
    "ExecuteTime": {
     "end_time": "2024-01-20T07:08:35.689598Z",
     "start_time": "2024-01-20T07:08:35.649231Z"
    }
   },
   "id": "57b68ee0c53964f3"
  },
  {
   "cell_type": "code",
   "execution_count": 36,
   "outputs": [],
   "source": [
    "# Show image\n",
    "img = cv2.imread(data)\n",
    "# plt.figure(figsize=(10, 10))\n",
    "plt.imshow(img)\n",
    "plt.show()"
   ],
   "metadata": {
    "collapsed": false,
    "ExecuteTime": {
     "end_time": "2024-01-20T07:10:51.437980Z",
     "start_time": "2024-01-20T07:10:51.425270Z"
    }
   },
   "id": "481539a9c491adc5"
  },
  {
   "cell_type": "code",
   "execution_count": 23,
   "outputs": [
    {
     "name": "stderr",
     "output_type": "stream",
     "text": [
      "YOLOv5 🚀 2024-1-19 Python-3.8.18 torch-2.1.2 CPU\n",
      "\n",
      "Fusing layers... \n",
      "Model summary: 157 layers, 7037095 parameters, 0 gradients, 15.8 GFLOPs\n",
      "image 1/1 /Users/lgl/code/machine_learning/wildlife-segment-anything/data/images/coco/bird.jpg: 576x640 1 bird, 336.5ms\n",
      "Speed: 3.0ms pre-process, 336.5ms inference, 0.9ms NMS per image at shape (1, 3, 640, 640)\n"
     ]
    }
   ],
   "source": [
    "# Run inference\n",
    "result = run(\n",
    "    weights=weights,\n",
    "    source=data,\n",
    "    data=config,\n",
    "    device=device,\n",
    ")"
   ],
   "metadata": {
    "collapsed": false,
    "ExecuteTime": {
     "end_time": "2024-01-20T07:08:36.291171Z",
     "start_time": "2024-01-20T07:08:35.656221Z"
    }
   },
   "id": "5a76048963eb1690"
  },
  {
   "cell_type": "code",
   "execution_count": 24,
   "outputs": [
    {
     "name": "stdout",
     "output_type": "stream",
     "text": [
      "bird.jpg\n",
      "[124, 124, 482, 468]\n"
     ]
    }
   ],
   "source": [
    "# Print results\n",
    "for k in result.keys():\n",
    "    print(k)\n",
    "    for r in result[k]:\n",
    "        print(r)"
   ],
   "metadata": {
    "collapsed": false,
    "ExecuteTime": {
     "end_time": "2024-01-20T07:08:36.303017Z",
     "start_time": "2024-01-20T07:08:36.292977Z"
    }
   },
   "id": "6ec2134417b813c5"
  }
 ],
 "metadata": {
  "kernelspec": {
   "display_name": "Python 3",
   "language": "python",
   "name": "python3"
  },
  "language_info": {
   "codemirror_mode": {
    "name": "ipython",
    "version": 2
   },
   "file_extension": ".py",
   "mimetype": "text/x-python",
   "name": "python",
   "nbconvert_exporter": "python",
   "pygments_lexer": "ipython2",
   "version": "2.7.6"
  }
 },
 "nbformat": 4,
 "nbformat_minor": 5
}
